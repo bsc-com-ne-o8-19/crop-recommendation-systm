{
 "cells": [
  {
   "cell_type": "code",
   "execution_count": 1,
   "metadata": {},
   "outputs": [],
   "source": [
    "import pandas as pd\n",
    "import numpy as np"
   ]
  },
  {
   "cell_type": "markdown",
   "metadata": {},
   "source": [
    "Importing data sets and combining them into one csv file"
   ]
  },
  {
   "cell_type": "code",
   "execution_count": 2,
   "metadata": {},
   "outputs": [
    {
     "data": {
      "text/html": [
       "<div>\n",
       "<style scoped>\n",
       "    .dataframe tbody tr th:only-of-type {\n",
       "        vertical-align: middle;\n",
       "    }\n",
       "\n",
       "    .dataframe tbody tr th {\n",
       "        vertical-align: top;\n",
       "    }\n",
       "\n",
       "    .dataframe thead th {\n",
       "        text-align: right;\n",
       "    }\n",
       "</style>\n",
       "<table border=\"1\" class=\"dataframe\">\n",
       "  <thead>\n",
       "    <tr style=\"text-align: right;\">\n",
       "      <th></th>\n",
       "      <th>Nitrogen</th>\n",
       "      <th>phosphorus</th>\n",
       "      <th>potassium</th>\n",
       "      <th>temperature</th>\n",
       "      <th>humidity</th>\n",
       "      <th>ph</th>\n",
       "      <th>rainfall</th>\n",
       "      <th>label</th>\n",
       "    </tr>\n",
       "  </thead>\n",
       "  <tbody>\n",
       "    <tr>\n",
       "      <th>0</th>\n",
       "      <td>90</td>\n",
       "      <td>42</td>\n",
       "      <td>43</td>\n",
       "      <td>20.879744</td>\n",
       "      <td>82.002744</td>\n",
       "      <td>6.502985</td>\n",
       "      <td>202.935536</td>\n",
       "      <td>rice</td>\n",
       "    </tr>\n",
       "    <tr>\n",
       "      <th>1</th>\n",
       "      <td>85</td>\n",
       "      <td>58</td>\n",
       "      <td>41</td>\n",
       "      <td>21.770462</td>\n",
       "      <td>80.319644</td>\n",
       "      <td>7.038096</td>\n",
       "      <td>226.655537</td>\n",
       "      <td>rice</td>\n",
       "    </tr>\n",
       "    <tr>\n",
       "      <th>2</th>\n",
       "      <td>60</td>\n",
       "      <td>55</td>\n",
       "      <td>44</td>\n",
       "      <td>23.004459</td>\n",
       "      <td>82.320763</td>\n",
       "      <td>7.840207</td>\n",
       "      <td>263.964248</td>\n",
       "      <td>rice</td>\n",
       "    </tr>\n",
       "    <tr>\n",
       "      <th>3</th>\n",
       "      <td>74</td>\n",
       "      <td>35</td>\n",
       "      <td>40</td>\n",
       "      <td>26.491096</td>\n",
       "      <td>80.158363</td>\n",
       "      <td>6.980401</td>\n",
       "      <td>242.864034</td>\n",
       "      <td>rice</td>\n",
       "    </tr>\n",
       "    <tr>\n",
       "      <th>4</th>\n",
       "      <td>78</td>\n",
       "      <td>42</td>\n",
       "      <td>42</td>\n",
       "      <td>20.130175</td>\n",
       "      <td>81.604873</td>\n",
       "      <td>7.628473</td>\n",
       "      <td>262.717340</td>\n",
       "      <td>rice</td>\n",
       "    </tr>\n",
       "  </tbody>\n",
       "</table>\n",
       "</div>"
      ],
      "text/plain": [
       "   Nitrogen  phosphorus  potassium  temperature   humidity        ph  \\\n",
       "0        90          42         43    20.879744  82.002744  6.502985   \n",
       "1        85          58         41    21.770462  80.319644  7.038096   \n",
       "2        60          55         44    23.004459  82.320763  7.840207   \n",
       "3        74          35         40    26.491096  80.158363  6.980401   \n",
       "4        78          42         42    20.130175  81.604873  7.628473   \n",
       "\n",
       "     rainfall label  \n",
       "0  202.935536  rice  \n",
       "1  226.655537  rice  \n",
       "2  263.964248  rice  \n",
       "3  242.864034  rice  \n",
       "4  262.717340  rice  "
      ]
     },
     "execution_count": 2,
     "metadata": {},
     "output_type": "execute_result"
    }
   ],
   "source": [
    "df1 = pd.read_csv(\"Crop_recommendation.csv\")\n",
    "df1.head()\n",
    "\n",
    "\n",
    "df2 =pd.read_csv(\"CropNFert.csv\")\n",
    "df2.head()\n",
    "df1.head()\n"
   ]
  },
  {
   "cell_type": "markdown",
   "metadata": {},
   "source": [
    "Removing unnecessary columns and rows in the first data set"
   ]
  },
  {
   "cell_type": "code",
   "execution_count": 3,
   "metadata": {},
   "outputs": [
    {
     "data": {
      "text/html": [
       "<div>\n",
       "<style scoped>\n",
       "    .dataframe tbody tr th:only-of-type {\n",
       "        vertical-align: middle;\n",
       "    }\n",
       "\n",
       "    .dataframe tbody tr th {\n",
       "        vertical-align: top;\n",
       "    }\n",
       "\n",
       "    .dataframe thead th {\n",
       "        text-align: right;\n",
       "    }\n",
       "</style>\n",
       "<table border=\"1\" class=\"dataframe\">\n",
       "  <thead>\n",
       "    <tr style=\"text-align: right;\">\n",
       "      <th></th>\n",
       "      <th>Nitrogen</th>\n",
       "      <th>phosphorus</th>\n",
       "      <th>potassium</th>\n",
       "      <th>temperature</th>\n",
       "      <th>ph</th>\n",
       "      <th>rainfall</th>\n",
       "      <th>label</th>\n",
       "    </tr>\n",
       "  </thead>\n",
       "  <tbody>\n",
       "    <tr>\n",
       "      <th>0</th>\n",
       "      <td>90</td>\n",
       "      <td>42</td>\n",
       "      <td>43</td>\n",
       "      <td>20.879744</td>\n",
       "      <td>6.502985</td>\n",
       "      <td>202.935536</td>\n",
       "      <td>rice</td>\n",
       "    </tr>\n",
       "    <tr>\n",
       "      <th>1</th>\n",
       "      <td>85</td>\n",
       "      <td>58</td>\n",
       "      <td>41</td>\n",
       "      <td>21.770462</td>\n",
       "      <td>7.038096</td>\n",
       "      <td>226.655537</td>\n",
       "      <td>rice</td>\n",
       "    </tr>\n",
       "    <tr>\n",
       "      <th>2</th>\n",
       "      <td>60</td>\n",
       "      <td>55</td>\n",
       "      <td>44</td>\n",
       "      <td>23.004459</td>\n",
       "      <td>7.840207</td>\n",
       "      <td>263.964248</td>\n",
       "      <td>rice</td>\n",
       "    </tr>\n",
       "    <tr>\n",
       "      <th>3</th>\n",
       "      <td>74</td>\n",
       "      <td>35</td>\n",
       "      <td>40</td>\n",
       "      <td>26.491096</td>\n",
       "      <td>6.980401</td>\n",
       "      <td>242.864034</td>\n",
       "      <td>rice</td>\n",
       "    </tr>\n",
       "    <tr>\n",
       "      <th>4</th>\n",
       "      <td>78</td>\n",
       "      <td>42</td>\n",
       "      <td>42</td>\n",
       "      <td>20.130175</td>\n",
       "      <td>7.628473</td>\n",
       "      <td>262.717340</td>\n",
       "      <td>rice</td>\n",
       "    </tr>\n",
       "  </tbody>\n",
       "</table>\n",
       "</div>"
      ],
      "text/plain": [
       "   Nitrogen  phosphorus  potassium  temperature        ph    rainfall label\n",
       "0        90          42         43    20.879744  6.502985  202.935536  rice\n",
       "1        85          58         41    21.770462  7.038096  226.655537  rice\n",
       "2        60          55         44    23.004459  7.840207  263.964248  rice\n",
       "3        74          35         40    26.491096  6.980401  242.864034  rice\n",
       "4        78          42         42    20.130175  7.628473  262.717340  rice"
      ]
     },
     "execution_count": 3,
     "metadata": {},
     "output_type": "execute_result"
    }
   ],
   "source": [
    "#Selecting the columns we are going to keep\n",
    "columns_to_keep_df1 =['Nitrogen','phosphorus','potassium','temperature','ph','rainfall','label']\n",
    "df1 = df1[columns_to_keep_df1]\n",
    "df1.head()\n",
    "\n",
    "# isin() function to select rows we will keep\n",
    "\n",
    "options1 = ['rice', 'mothbeans', 'mungbean']\n",
    "new_df1 = df1[df1['label'].isin(options1)]\n",
    "new_df1.head()\n",
    "\n"
   ]
  },
  {
   "cell_type": "markdown",
   "metadata": {},
   "source": [
    "We do the same for the second dataset"
   ]
  },
  {
   "cell_type": "code",
   "execution_count": 4,
   "metadata": {},
   "outputs": [
    {
     "data": {
      "text/html": [
       "<div>\n",
       "<style scoped>\n",
       "    .dataframe tbody tr th:only-of-type {\n",
       "        vertical-align: middle;\n",
       "    }\n",
       "\n",
       "    .dataframe tbody tr th {\n",
       "        vertical-align: top;\n",
       "    }\n",
       "\n",
       "    .dataframe thead th {\n",
       "        text-align: right;\n",
       "    }\n",
       "</style>\n",
       "<table border=\"1\" class=\"dataframe\">\n",
       "  <thead>\n",
       "    <tr style=\"text-align: right;\">\n",
       "      <th></th>\n",
       "      <th>Nitrogen</th>\n",
       "      <th>Phosphorus</th>\n",
       "      <th>Potassium</th>\n",
       "      <th>Temperature</th>\n",
       "      <th>pH</th>\n",
       "      <th>Rainfall</th>\n",
       "      <th>Crop</th>\n",
       "    </tr>\n",
       "  </thead>\n",
       "  <tbody>\n",
       "    <tr>\n",
       "      <th>624</th>\n",
       "      <td>20</td>\n",
       "      <td>15</td>\n",
       "      <td>20</td>\n",
       "      <td>25</td>\n",
       "      <td>5.5</td>\n",
       "      <td>700</td>\n",
       "      <td>Rice</td>\n",
       "    </tr>\n",
       "    <tr>\n",
       "      <th>625</th>\n",
       "      <td>25</td>\n",
       "      <td>15</td>\n",
       "      <td>20</td>\n",
       "      <td>25</td>\n",
       "      <td>5.5</td>\n",
       "      <td>700</td>\n",
       "      <td>Rice</td>\n",
       "    </tr>\n",
       "    <tr>\n",
       "      <th>626</th>\n",
       "      <td>30</td>\n",
       "      <td>15</td>\n",
       "      <td>20</td>\n",
       "      <td>25</td>\n",
       "      <td>5.5</td>\n",
       "      <td>700</td>\n",
       "      <td>Rice</td>\n",
       "    </tr>\n",
       "    <tr>\n",
       "      <th>627</th>\n",
       "      <td>20</td>\n",
       "      <td>20</td>\n",
       "      <td>25</td>\n",
       "      <td>30</td>\n",
       "      <td>6.0</td>\n",
       "      <td>800</td>\n",
       "      <td>Rice</td>\n",
       "    </tr>\n",
       "    <tr>\n",
       "      <th>628</th>\n",
       "      <td>25</td>\n",
       "      <td>20</td>\n",
       "      <td>25</td>\n",
       "      <td>30</td>\n",
       "      <td>6.0</td>\n",
       "      <td>800</td>\n",
       "      <td>Rice</td>\n",
       "    </tr>\n",
       "  </tbody>\n",
       "</table>\n",
       "</div>"
      ],
      "text/plain": [
       "     Nitrogen  Phosphorus  Potassium  Temperature   pH  Rainfall  Crop\n",
       "624        20          15         20           25  5.5       700  Rice\n",
       "625        25          15         20           25  5.5       700  Rice\n",
       "626        30          15         20           25  5.5       700  Rice\n",
       "627        20          20         25           30  6.0       800  Rice\n",
       "628        25          20         25           30  6.0       800  Rice"
      ]
     },
     "execution_count": 4,
     "metadata": {},
     "output_type": "execute_result"
    }
   ],
   "source": [
    "#Selecting the columns we are going to keep\n",
    "columns_to_keep_df2 =['Nitrogen','Phosphorus','Potassium','Temperature','pH','Rainfall','Crop']\n",
    "df2 = df2[columns_to_keep_df2]\n",
    "\n",
    "# isin() function to select rows we will keep\n",
    "\n",
    "options2 = ['Rice', 'Groundnut', 'Maize']\n",
    "new_df2 = df2[df2['Crop'].isin(options2)]\n",
    "new_df2.head()\n",
    "\n"
   ]
  },
  {
   "cell_type": "markdown",
   "metadata": {},
   "source": [
    "checking the index(s) for each dataset"
   ]
  },
  {
   "cell_type": "code",
   "execution_count": 5,
   "metadata": {},
   "outputs": [
    {
     "name": "stdout",
     "output_type": "stream",
     "text": [
      "Index([  0,   1,   2,   3,   4,   5,   6,   7,   8,   9,\n",
      "       ...\n",
      "       690, 691, 692, 693, 694, 695, 696, 697, 698, 699],\n",
      "      dtype='int64', length=300)\n",
      "Index([ 624,  625,  626,  627,  628,  629,  630,  631,  632,  633,\n",
      "       ...\n",
      "       4204, 4205, 4206, 4207, 4208, 4209, 4210, 4211, 4212, 4213],\n",
      "      dtype='int64', length=836)\n"
     ]
    }
   ],
   "source": [
    "print(new_df1.index)\n",
    "print(new_df2.index)"
   ]
  },
  {
   "cell_type": "code",
   "execution_count": 6,
   "metadata": {},
   "outputs": [
    {
     "name": "stdout",
     "output_type": "stream",
     "text": [
      "Index([  0,   1,   2,   3,   4,   5,   6,   7,   8,   9,\n",
      "       ...\n",
      "       690, 691, 692, 693, 694, 695, 696, 697, 698, 699],\n",
      "      dtype='int64', length=300)\n",
      "Index([ 624,  625,  626,  627,  628,  629,  630,  631,  632,  633,\n",
      "       ...\n",
      "       4204, 4205, 4206, 4207, 4208, 4209, 4210, 4211, 4212, 4213],\n",
      "      dtype='int64', length=836)\n"
     ]
    }
   ],
   "source": [
    "df1.reset_index(drop=True, inplace=True)\n",
    "df2.reset_index(drop=True, inplace=True)\n",
    "print(new_df1.index)\n",
    "print(new_df2.index)"
   ]
  },
  {
   "cell_type": "markdown",
   "metadata": {},
   "source": [
    "Then we concatinate the two new data frames into on data frame"
   ]
  },
  {
   "cell_type": "code",
   "execution_count": 10,
   "metadata": {},
   "outputs": [
    {
     "data": {
      "text/html": [
       "<div>\n",
       "<style scoped>\n",
       "    .dataframe tbody tr th:only-of-type {\n",
       "        vertical-align: middle;\n",
       "    }\n",
       "\n",
       "    .dataframe tbody tr th {\n",
       "        vertical-align: top;\n",
       "    }\n",
       "\n",
       "    .dataframe thead th {\n",
       "        text-align: right;\n",
       "    }\n",
       "</style>\n",
       "<table border=\"1\" class=\"dataframe\">\n",
       "  <thead>\n",
       "    <tr style=\"text-align: right;\">\n",
       "      <th></th>\n",
       "      <th>phosphorus</th>\n",
       "      <th>potassium</th>\n",
       "      <th>temperature</th>\n",
       "      <th>ph</th>\n",
       "      <th>rainfall</th>\n",
       "      <th>label</th>\n",
       "    </tr>\n",
       "  </thead>\n",
       "  <tbody>\n",
       "    <tr>\n",
       "      <th>0</th>\n",
       "      <td>42.0</td>\n",
       "      <td>43.0</td>\n",
       "      <td>20.879744</td>\n",
       "      <td>6.502985</td>\n",
       "      <td>202.935536</td>\n",
       "      <td>rice</td>\n",
       "    </tr>\n",
       "    <tr>\n",
       "      <th>1</th>\n",
       "      <td>58.0</td>\n",
       "      <td>41.0</td>\n",
       "      <td>21.770462</td>\n",
       "      <td>7.038096</td>\n",
       "      <td>226.655537</td>\n",
       "      <td>rice</td>\n",
       "    </tr>\n",
       "    <tr>\n",
       "      <th>2</th>\n",
       "      <td>55.0</td>\n",
       "      <td>44.0</td>\n",
       "      <td>23.004459</td>\n",
       "      <td>7.840207</td>\n",
       "      <td>263.964248</td>\n",
       "      <td>rice</td>\n",
       "    </tr>\n",
       "    <tr>\n",
       "      <th>3</th>\n",
       "      <td>35.0</td>\n",
       "      <td>40.0</td>\n",
       "      <td>26.491096</td>\n",
       "      <td>6.980401</td>\n",
       "      <td>242.864034</td>\n",
       "      <td>rice</td>\n",
       "    </tr>\n",
       "    <tr>\n",
       "      <th>4</th>\n",
       "      <td>42.0</td>\n",
       "      <td>42.0</td>\n",
       "      <td>20.130175</td>\n",
       "      <td>7.628473</td>\n",
       "      <td>262.717340</td>\n",
       "      <td>rice</td>\n",
       "    </tr>\n",
       "  </tbody>\n",
       "</table>\n",
       "</div>"
      ],
      "text/plain": [
       "   phosphorus  potassium  temperature        ph    rainfall label\n",
       "0        42.0       43.0    20.879744  6.502985  202.935536  rice\n",
       "1        58.0       41.0    21.770462  7.038096  226.655537  rice\n",
       "2        55.0       44.0    23.004459  7.840207  263.964248  rice\n",
       "3        35.0       40.0    26.491096  6.980401  242.864034  rice\n",
       "4        42.0       42.0    20.130175  7.628473  262.717340  rice"
      ]
     },
     "execution_count": 10,
     "metadata": {},
     "output_type": "execute_result"
    }
   ],
   "source": [
    "concatenated_df = pd.concat([new_df1, new_df2], axis=0)\n",
    "#concatenated_df.reset_index(drop=True, inplace=True)\n",
    "\n",
    "columns_to_drop = ['Nitrogen','Phosphorus','Potassium','Temperature','pH','Rainfall','Crop']\n",
    "concatenated_df = concatenated_df.drop(columns=columns_to_drop)\n",
    "#duplicate_rows = concatenated_df[concatenated_df.duplicated()]\n",
    "\n",
    "#concatenated_df.drop_duplicates(keep='first', inplace=True)\n",
    "concatenated_df.drop_duplicates(keep='first', inplace=False)\n",
    "concatenated_df.head()"
   ]
  },
  {
   "cell_type": "markdown",
   "metadata": {},
   "source": [
    "Checking if any of the data is missing ie Null values"
   ]
  },
  {
   "cell_type": "code",
   "execution_count": 8,
   "metadata": {},
   "outputs": [
    {
     "name": "stdout",
     "output_type": "stream",
     "text": [
      "phosphorus     1\n",
      "potassium      1\n",
      "temperature    1\n",
      "ph             1\n",
      "rainfall       1\n",
      "label          1\n",
      "dtype: int64\n",
      "<class 'pandas.core.frame.DataFrame'>\n",
      "Index: 301 entries, 0 to 624\n",
      "Data columns (total 6 columns):\n",
      " #   Column       Non-Null Count  Dtype  \n",
      "---  ------       --------------  -----  \n",
      " 0   phosphorus   300 non-null    float64\n",
      " 1   potassium    300 non-null    float64\n",
      " 2   temperature  300 non-null    float64\n",
      " 3   ph           300 non-null    float64\n",
      " 4   rainfall     300 non-null    float64\n",
      " 5   label        300 non-null    object \n",
      "dtypes: float64(5), object(1)\n",
      "memory usage: 16.5+ KB\n"
     ]
    }
   ],
   "source": [
    "print(concatenated_df.isnull().sum())\n",
    "concatenated_df.info()"
   ]
  }
 ],
 "metadata": {
  "kernelspec": {
   "display_name": "base",
   "language": "python",
   "name": "python3"
  },
  "language_info": {
   "codemirror_mode": {
    "name": "ipython",
    "version": 3
   },
   "file_extension": ".py",
   "mimetype": "text/x-python",
   "name": "python",
   "nbconvert_exporter": "python",
   "pygments_lexer": "ipython3",
   "version": "3.10.13"
  }
 },
 "nbformat": 4,
 "nbformat_minor": 2
}
