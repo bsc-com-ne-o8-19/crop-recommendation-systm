{
 "cells": [
  {
   "cell_type": "code",
   "execution_count": 44,
   "metadata": {},
   "outputs": [],
   "source": [
    "import pandas as pd\n",
    "import numpy as np"
   ]
  },
  {
   "cell_type": "markdown",
   "metadata": {},
   "source": [
    "Importing data sets and combining them into one csv file"
   ]
  },
  {
   "cell_type": "code",
   "execution_count": 45,
   "metadata": {},
   "outputs": [
    {
     "data": {
      "text/html": [
       "<div>\n",
       "<style scoped>\n",
       "    .dataframe tbody tr th:only-of-type {\n",
       "        vertical-align: middle;\n",
       "    }\n",
       "\n",
       "    .dataframe tbody tr th {\n",
       "        vertical-align: top;\n",
       "    }\n",
       "\n",
       "    .dataframe thead th {\n",
       "        text-align: right;\n",
       "    }\n",
       "</style>\n",
       "<table border=\"1\" class=\"dataframe\">\n",
       "  <thead>\n",
       "    <tr style=\"text-align: right;\">\n",
       "      <th></th>\n",
       "      <th>District_Name</th>\n",
       "      <th>Soil_color</th>\n",
       "      <th>Nitrogen</th>\n",
       "      <th>Phosphorus</th>\n",
       "      <th>Potassium</th>\n",
       "      <th>pH</th>\n",
       "      <th>Rainfall</th>\n",
       "      <th>Temperature</th>\n",
       "      <th>Crop</th>\n",
       "      <th>Fertilizer</th>\n",
       "      <th>Link</th>\n",
       "    </tr>\n",
       "  </thead>\n",
       "  <tbody>\n",
       "    <tr>\n",
       "      <th>0</th>\n",
       "      <td>Kolhapur</td>\n",
       "      <td>Black</td>\n",
       "      <td>75</td>\n",
       "      <td>50</td>\n",
       "      <td>100</td>\n",
       "      <td>6.5</td>\n",
       "      <td>1000</td>\n",
       "      <td>20</td>\n",
       "      <td>Sugarcane</td>\n",
       "      <td>Urea</td>\n",
       "      <td>https://youtu.be/2t5Am0xLTOo</td>\n",
       "    </tr>\n",
       "    <tr>\n",
       "      <th>1</th>\n",
       "      <td>Kolhapur</td>\n",
       "      <td>Black</td>\n",
       "      <td>80</td>\n",
       "      <td>50</td>\n",
       "      <td>100</td>\n",
       "      <td>6.5</td>\n",
       "      <td>1000</td>\n",
       "      <td>20</td>\n",
       "      <td>Sugarcane</td>\n",
       "      <td>Urea</td>\n",
       "      <td>https://youtu.be/2t5Am0xLTOo</td>\n",
       "    </tr>\n",
       "    <tr>\n",
       "      <th>2</th>\n",
       "      <td>Kolhapur</td>\n",
       "      <td>Black</td>\n",
       "      <td>85</td>\n",
       "      <td>50</td>\n",
       "      <td>100</td>\n",
       "      <td>6.5</td>\n",
       "      <td>1000</td>\n",
       "      <td>20</td>\n",
       "      <td>Sugarcane</td>\n",
       "      <td>Urea</td>\n",
       "      <td>https://youtu.be/2t5Am0xLTOo</td>\n",
       "    </tr>\n",
       "    <tr>\n",
       "      <th>3</th>\n",
       "      <td>Kolhapur</td>\n",
       "      <td>Black</td>\n",
       "      <td>90</td>\n",
       "      <td>50</td>\n",
       "      <td>100</td>\n",
       "      <td>6.5</td>\n",
       "      <td>1000</td>\n",
       "      <td>20</td>\n",
       "      <td>Sugarcane</td>\n",
       "      <td>Urea</td>\n",
       "      <td>https://youtu.be/2t5Am0xLTOo</td>\n",
       "    </tr>\n",
       "    <tr>\n",
       "      <th>4</th>\n",
       "      <td>Kolhapur</td>\n",
       "      <td>Black</td>\n",
       "      <td>95</td>\n",
       "      <td>50</td>\n",
       "      <td>100</td>\n",
       "      <td>6.5</td>\n",
       "      <td>1000</td>\n",
       "      <td>20</td>\n",
       "      <td>Sugarcane</td>\n",
       "      <td>Urea</td>\n",
       "      <td>https://youtu.be/2t5Am0xLTOo</td>\n",
       "    </tr>\n",
       "  </tbody>\n",
       "</table>\n",
       "</div>"
      ],
      "text/plain": [
       "  District_Name Soil_color  Nitrogen  Phosphorus  Potassium   pH  Rainfall  \\\n",
       "0      Kolhapur      Black        75          50        100  6.5      1000   \n",
       "1      Kolhapur      Black        80          50        100  6.5      1000   \n",
       "2      Kolhapur      Black        85          50        100  6.5      1000   \n",
       "3      Kolhapur      Black        90          50        100  6.5      1000   \n",
       "4      Kolhapur      Black        95          50        100  6.5      1000   \n",
       "\n",
       "   Temperature       Crop Fertilizer                          Link  \n",
       "0           20  Sugarcane       Urea  https://youtu.be/2t5Am0xLTOo  \n",
       "1           20  Sugarcane       Urea  https://youtu.be/2t5Am0xLTOo  \n",
       "2           20  Sugarcane       Urea  https://youtu.be/2t5Am0xLTOo  \n",
       "3           20  Sugarcane       Urea  https://youtu.be/2t5Am0xLTOo  \n",
       "4           20  Sugarcane       Urea  https://youtu.be/2t5Am0xLTOo  "
      ]
     },
     "execution_count": 45,
     "metadata": {},
     "output_type": "execute_result"
    }
   ],
   "source": [
    "df1 = pd.read_csv(\"Crop_recommendation.csv\")\n",
    "df1.head()\n",
    "\n",
    "\n",
    "df2 =pd.read_csv(\"CropNFert.csv\")\n",
    "df2.head()\n"
   ]
  },
  {
   "cell_type": "markdown",
   "metadata": {},
   "source": [
    "Removing unnecessary columns and rows in the first data set"
   ]
  },
  {
   "cell_type": "code",
   "execution_count": 46,
   "metadata": {},
   "outputs": [
    {
     "data": {
      "text/html": [
       "<div>\n",
       "<style scoped>\n",
       "    .dataframe tbody tr th:only-of-type {\n",
       "        vertical-align: middle;\n",
       "    }\n",
       "\n",
       "    .dataframe tbody tr th {\n",
       "        vertical-align: top;\n",
       "    }\n",
       "\n",
       "    .dataframe thead th {\n",
       "        text-align: right;\n",
       "    }\n",
       "</style>\n",
       "<table border=\"1\" class=\"dataframe\">\n",
       "  <thead>\n",
       "    <tr style=\"text-align: right;\">\n",
       "      <th></th>\n",
       "      <th>Nitrogen</th>\n",
       "      <th>phosphorus</th>\n",
       "      <th>potassium</th>\n",
       "      <th>temperature</th>\n",
       "      <th>ph</th>\n",
       "      <th>rainfall</th>\n",
       "      <th>label</th>\n",
       "    </tr>\n",
       "  </thead>\n",
       "  <tbody>\n",
       "    <tr>\n",
       "      <th>0</th>\n",
       "      <td>90</td>\n",
       "      <td>42</td>\n",
       "      <td>43</td>\n",
       "      <td>20.879744</td>\n",
       "      <td>6.502985</td>\n",
       "      <td>202.935536</td>\n",
       "      <td>rice</td>\n",
       "    </tr>\n",
       "    <tr>\n",
       "      <th>1</th>\n",
       "      <td>85</td>\n",
       "      <td>58</td>\n",
       "      <td>41</td>\n",
       "      <td>21.770462</td>\n",
       "      <td>7.038096</td>\n",
       "      <td>226.655537</td>\n",
       "      <td>rice</td>\n",
       "    </tr>\n",
       "    <tr>\n",
       "      <th>2</th>\n",
       "      <td>60</td>\n",
       "      <td>55</td>\n",
       "      <td>44</td>\n",
       "      <td>23.004459</td>\n",
       "      <td>7.840207</td>\n",
       "      <td>263.964248</td>\n",
       "      <td>rice</td>\n",
       "    </tr>\n",
       "    <tr>\n",
       "      <th>3</th>\n",
       "      <td>74</td>\n",
       "      <td>35</td>\n",
       "      <td>40</td>\n",
       "      <td>26.491096</td>\n",
       "      <td>6.980401</td>\n",
       "      <td>242.864034</td>\n",
       "      <td>rice</td>\n",
       "    </tr>\n",
       "    <tr>\n",
       "      <th>4</th>\n",
       "      <td>78</td>\n",
       "      <td>42</td>\n",
       "      <td>42</td>\n",
       "      <td>20.130175</td>\n",
       "      <td>7.628473</td>\n",
       "      <td>262.717340</td>\n",
       "      <td>rice</td>\n",
       "    </tr>\n",
       "  </tbody>\n",
       "</table>\n",
       "</div>"
      ],
      "text/plain": [
       "   Nitrogen  phosphorus  potassium  temperature        ph    rainfall label\n",
       "0        90          42         43    20.879744  6.502985  202.935536  rice\n",
       "1        85          58         41    21.770462  7.038096  226.655537  rice\n",
       "2        60          55         44    23.004459  7.840207  263.964248  rice\n",
       "3        74          35         40    26.491096  6.980401  242.864034  rice\n",
       "4        78          42         42    20.130175  7.628473  262.717340  rice"
      ]
     },
     "execution_count": 46,
     "metadata": {},
     "output_type": "execute_result"
    }
   ],
   "source": [
    "#Selecting the columns we are going to keep\n",
    "columns_to_keep_df1 =['Nitrogen','phosphorus','potassium','temperature','ph','rainfall','label']\n",
    "df1 = df1[columns_to_keep_df1]\n",
    "df1.head()\n",
    "\n",
    "# isin() function to select rows we will keep\n",
    "\n",
    "options1 = ['rice', 'mothbeans','kidneybeans']\n",
    "new_df1 = df1[df1['label'].isin(options1)]\n",
    "new_df1.head()\n",
    "\n"
   ]
  },
  {
   "cell_type": "markdown",
   "metadata": {},
   "source": [
    "We do the same for the second dataset"
   ]
  },
  {
   "cell_type": "code",
   "execution_count": 47,
   "metadata": {},
   "outputs": [
    {
     "data": {
      "text/html": [
       "<div>\n",
       "<style scoped>\n",
       "    .dataframe tbody tr th:only-of-type {\n",
       "        vertical-align: middle;\n",
       "    }\n",
       "\n",
       "    .dataframe tbody tr th {\n",
       "        vertical-align: top;\n",
       "    }\n",
       "\n",
       "    .dataframe thead th {\n",
       "        text-align: right;\n",
       "    }\n",
       "</style>\n",
       "<table border=\"1\" class=\"dataframe\">\n",
       "  <thead>\n",
       "    <tr style=\"text-align: right;\">\n",
       "      <th></th>\n",
       "      <th>Nitrogen</th>\n",
       "      <th>Phosphorus</th>\n",
       "      <th>Potassium</th>\n",
       "      <th>Temperature</th>\n",
       "      <th>pH</th>\n",
       "      <th>Rainfall</th>\n",
       "      <th>Crop</th>\n",
       "    </tr>\n",
       "  </thead>\n",
       "  <tbody>\n",
       "    <tr>\n",
       "      <th>624</th>\n",
       "      <td>20</td>\n",
       "      <td>15</td>\n",
       "      <td>20</td>\n",
       "      <td>25</td>\n",
       "      <td>5.5</td>\n",
       "      <td>700</td>\n",
       "      <td>Rice</td>\n",
       "    </tr>\n",
       "    <tr>\n",
       "      <th>625</th>\n",
       "      <td>25</td>\n",
       "      <td>15</td>\n",
       "      <td>20</td>\n",
       "      <td>25</td>\n",
       "      <td>5.5</td>\n",
       "      <td>700</td>\n",
       "      <td>Rice</td>\n",
       "    </tr>\n",
       "    <tr>\n",
       "      <th>626</th>\n",
       "      <td>30</td>\n",
       "      <td>15</td>\n",
       "      <td>20</td>\n",
       "      <td>25</td>\n",
       "      <td>5.5</td>\n",
       "      <td>700</td>\n",
       "      <td>Rice</td>\n",
       "    </tr>\n",
       "    <tr>\n",
       "      <th>627</th>\n",
       "      <td>20</td>\n",
       "      <td>20</td>\n",
       "      <td>25</td>\n",
       "      <td>30</td>\n",
       "      <td>6.0</td>\n",
       "      <td>800</td>\n",
       "      <td>Rice</td>\n",
       "    </tr>\n",
       "    <tr>\n",
       "      <th>628</th>\n",
       "      <td>25</td>\n",
       "      <td>20</td>\n",
       "      <td>25</td>\n",
       "      <td>30</td>\n",
       "      <td>6.0</td>\n",
       "      <td>800</td>\n",
       "      <td>Rice</td>\n",
       "    </tr>\n",
       "  </tbody>\n",
       "</table>\n",
       "</div>"
      ],
      "text/plain": [
       "     Nitrogen  Phosphorus  Potassium  Temperature   pH  Rainfall  Crop\n",
       "624        20          15         20           25  5.5       700  Rice\n",
       "625        25          15         20           25  5.5       700  Rice\n",
       "626        30          15         20           25  5.5       700  Rice\n",
       "627        20          20         25           30  6.0       800  Rice\n",
       "628        25          20         25           30  6.0       800  Rice"
      ]
     },
     "execution_count": 47,
     "metadata": {},
     "output_type": "execute_result"
    }
   ],
   "source": [
    "#Selecting the columns we are going to keep\n",
    "columns_to_keep_df2 =['Nitrogen','Phosphorus','Potassium','Temperature','pH','Rainfall','Crop']\n",
    "df2 = df2[columns_to_keep_df2]\n",
    "\n",
    "# isin() function to select rows we will keep\n",
    "\n",
    "options2 = ['Rice', 'Groundnut', 'Maize']\n",
    "new_df2 = df2[df2['Crop'].isin(options2)]\n",
    "new_df2.head()\n",
    "\n"
   ]
  },
  {
   "cell_type": "markdown",
   "metadata": {},
   "source": [
    "Mapping the names of columns to rename the column names of the first dataset to the names of the second dataset to ensure no data is lost when concatenating"
   ]
  },
  {
   "cell_type": "code",
   "execution_count": 48,
   "metadata": {},
   "outputs": [
    {
     "data": {
      "text/html": [
       "<div>\n",
       "<style scoped>\n",
       "    .dataframe tbody tr th:only-of-type {\n",
       "        vertical-align: middle;\n",
       "    }\n",
       "\n",
       "    .dataframe tbody tr th {\n",
       "        vertical-align: top;\n",
       "    }\n",
       "\n",
       "    .dataframe thead th {\n",
       "        text-align: right;\n",
       "    }\n",
       "</style>\n",
       "<table border=\"1\" class=\"dataframe\">\n",
       "  <thead>\n",
       "    <tr style=\"text-align: right;\">\n",
       "      <th></th>\n",
       "      <th>Nitrogen</th>\n",
       "      <th>Phosphorus</th>\n",
       "      <th>Potassium</th>\n",
       "      <th>Temperature</th>\n",
       "      <th>pH</th>\n",
       "      <th>Rainfall</th>\n",
       "      <th>Crop</th>\n",
       "    </tr>\n",
       "  </thead>\n",
       "  <tbody>\n",
       "    <tr>\n",
       "      <th>624</th>\n",
       "      <td>20</td>\n",
       "      <td>15</td>\n",
       "      <td>20</td>\n",
       "      <td>25</td>\n",
       "      <td>5.5</td>\n",
       "      <td>700</td>\n",
       "      <td>Rice</td>\n",
       "    </tr>\n",
       "    <tr>\n",
       "      <th>625</th>\n",
       "      <td>25</td>\n",
       "      <td>15</td>\n",
       "      <td>20</td>\n",
       "      <td>25</td>\n",
       "      <td>5.5</td>\n",
       "      <td>700</td>\n",
       "      <td>Rice</td>\n",
       "    </tr>\n",
       "    <tr>\n",
       "      <th>626</th>\n",
       "      <td>30</td>\n",
       "      <td>15</td>\n",
       "      <td>20</td>\n",
       "      <td>25</td>\n",
       "      <td>5.5</td>\n",
       "      <td>700</td>\n",
       "      <td>Rice</td>\n",
       "    </tr>\n",
       "    <tr>\n",
       "      <th>627</th>\n",
       "      <td>20</td>\n",
       "      <td>20</td>\n",
       "      <td>25</td>\n",
       "      <td>30</td>\n",
       "      <td>6.0</td>\n",
       "      <td>800</td>\n",
       "      <td>Rice</td>\n",
       "    </tr>\n",
       "    <tr>\n",
       "      <th>628</th>\n",
       "      <td>25</td>\n",
       "      <td>20</td>\n",
       "      <td>25</td>\n",
       "      <td>30</td>\n",
       "      <td>6.0</td>\n",
       "      <td>800</td>\n",
       "      <td>Rice</td>\n",
       "    </tr>\n",
       "  </tbody>\n",
       "</table>\n",
       "</div>"
      ],
      "text/plain": [
       "     Nitrogen  Phosphorus  Potassium  Temperature   pH  Rainfall  Crop\n",
       "624        20          15         20           25  5.5       700  Rice\n",
       "625        25          15         20           25  5.5       700  Rice\n",
       "626        30          15         20           25  5.5       700  Rice\n",
       "627        20          20         25           30  6.0       800  Rice\n",
       "628        25          20         25           30  6.0       800  Rice"
      ]
     },
     "execution_count": 48,
     "metadata": {},
     "output_type": "execute_result"
    }
   ],
   "source": [
    "column_mapping = {\n",
    "    'phosphorus': 'Phosphorus',\n",
    "    'potassium': 'Potassium',\n",
    "    'temperature': 'Temperature',\n",
    "    'ph': 'pH',\n",
    "    'rainfall': 'Rainfall',\n",
    "    'label' : 'Crop'\n",
    "\n",
    "}\n",
    "\n",
    "# Rename columns in new_df1 based on the mapping\n",
    "new_df1 = new_df1.rename(columns=column_mapping)\n",
    "new_df1.head()\n",
    "new_df2.head()\n"
   ]
  },
  {
   "cell_type": "markdown",
   "metadata": {},
   "source": [
    "checking the index(s) for each dataset"
   ]
  },
  {
   "cell_type": "code",
   "execution_count": 49,
   "metadata": {},
   "outputs": [
    {
     "name": "stdout",
     "output_type": "stream",
     "text": [
      "Index([  0,   1,   2,   3,   4,   5,   6,   7,   8,   9,\n",
      "       ...\n",
      "       590, 591, 592, 593, 594, 595, 596, 597, 598, 599],\n",
      "      dtype='int64', length=300)\n",
      "Index([ 624,  625,  626,  627,  628,  629,  630,  631,  632,  633,\n",
      "       ...\n",
      "       4204, 4205, 4206, 4207, 4208, 4209, 4210, 4211, 4212, 4213],\n",
      "      dtype='int64', length=836)\n"
     ]
    }
   ],
   "source": [
    "print(new_df1.index)\n",
    "print(new_df2.index)"
   ]
  },
  {
   "cell_type": "markdown",
   "metadata": {},
   "source": [
    "Resetting Index(s)"
   ]
  },
  {
   "cell_type": "code",
   "execution_count": 50,
   "metadata": {},
   "outputs": [
    {
     "name": "stdout",
     "output_type": "stream",
     "text": [
      "Index([  0,   1,   2,   3,   4,   5,   6,   7,   8,   9,\n",
      "       ...\n",
      "       590, 591, 592, 593, 594, 595, 596, 597, 598, 599],\n",
      "      dtype='int64', length=300)\n",
      "Index([ 624,  625,  626,  627,  628,  629,  630,  631,  632,  633,\n",
      "       ...\n",
      "       4204, 4205, 4206, 4207, 4208, 4209, 4210, 4211, 4212, 4213],\n",
      "      dtype='int64', length=836)\n"
     ]
    }
   ],
   "source": [
    "df1.reset_index(drop=True, inplace=True)\n",
    "df2.reset_index(drop=True, inplace=True)\n",
    "print(new_df1.index)\n",
    "print(new_df2.index)"
   ]
  },
  {
   "cell_type": "markdown",
   "metadata": {},
   "source": [
    "Then we concatinate the two new data frames into on data frame"
   ]
  },
  {
   "cell_type": "code",
   "execution_count": 51,
   "metadata": {},
   "outputs": [
    {
     "data": {
      "text/html": [
       "<div>\n",
       "<style scoped>\n",
       "    .dataframe tbody tr th:only-of-type {\n",
       "        vertical-align: middle;\n",
       "    }\n",
       "\n",
       "    .dataframe tbody tr th {\n",
       "        vertical-align: top;\n",
       "    }\n",
       "\n",
       "    .dataframe thead th {\n",
       "        text-align: right;\n",
       "    }\n",
       "</style>\n",
       "<table border=\"1\" class=\"dataframe\">\n",
       "  <thead>\n",
       "    <tr style=\"text-align: right;\">\n",
       "      <th></th>\n",
       "      <th>Nitrogen</th>\n",
       "      <th>Phosphorus</th>\n",
       "      <th>Potassium</th>\n",
       "      <th>Temperature</th>\n",
       "      <th>pH</th>\n",
       "      <th>Rainfall</th>\n",
       "      <th>Crop</th>\n",
       "    </tr>\n",
       "  </thead>\n",
       "  <tbody>\n",
       "    <tr>\n",
       "      <th>0</th>\n",
       "      <td>90</td>\n",
       "      <td>42</td>\n",
       "      <td>43</td>\n",
       "      <td>20.879744</td>\n",
       "      <td>6.502985</td>\n",
       "      <td>202.935536</td>\n",
       "      <td>rice</td>\n",
       "    </tr>\n",
       "    <tr>\n",
       "      <th>1</th>\n",
       "      <td>85</td>\n",
       "      <td>58</td>\n",
       "      <td>41</td>\n",
       "      <td>21.770462</td>\n",
       "      <td>7.038096</td>\n",
       "      <td>226.655537</td>\n",
       "      <td>rice</td>\n",
       "    </tr>\n",
       "    <tr>\n",
       "      <th>2</th>\n",
       "      <td>60</td>\n",
       "      <td>55</td>\n",
       "      <td>44</td>\n",
       "      <td>23.004459</td>\n",
       "      <td>7.840207</td>\n",
       "      <td>263.964248</td>\n",
       "      <td>rice</td>\n",
       "    </tr>\n",
       "    <tr>\n",
       "      <th>3</th>\n",
       "      <td>74</td>\n",
       "      <td>35</td>\n",
       "      <td>40</td>\n",
       "      <td>26.491096</td>\n",
       "      <td>6.980401</td>\n",
       "      <td>242.864034</td>\n",
       "      <td>rice</td>\n",
       "    </tr>\n",
       "    <tr>\n",
       "      <th>4</th>\n",
       "      <td>78</td>\n",
       "      <td>42</td>\n",
       "      <td>42</td>\n",
       "      <td>20.130175</td>\n",
       "      <td>7.628473</td>\n",
       "      <td>262.717340</td>\n",
       "      <td>rice</td>\n",
       "    </tr>\n",
       "  </tbody>\n",
       "</table>\n",
       "</div>"
      ],
      "text/plain": [
       "   Nitrogen  Phosphorus  Potassium  Temperature        pH    Rainfall  Crop\n",
       "0        90          42         43    20.879744  6.502985  202.935536  rice\n",
       "1        85          58         41    21.770462  7.038096  226.655537  rice\n",
       "2        60          55         44    23.004459  7.840207  263.964248  rice\n",
       "3        74          35         40    26.491096  6.980401  242.864034  rice\n",
       "4        78          42         42    20.130175  7.628473  262.717340  rice"
      ]
     },
     "execution_count": 51,
     "metadata": {},
     "output_type": "execute_result"
    }
   ],
   "source": [
    "concatenated_df = pd.concat([new_df1, new_df2], axis=0)\n",
    "#concatenated_df.reset_index(drop=True, inplace=True)\n",
    "\n",
    "concatenated_df.drop_duplicates(keep='first', inplace=True)\n",
    "concatenated_df.head()"
   ]
  },
  {
   "cell_type": "markdown",
   "metadata": {},
   "source": [
    "Checking if any of the data is missing ie Null values"
   ]
  },
  {
   "cell_type": "code",
   "execution_count": 52,
   "metadata": {},
   "outputs": [
    {
     "name": "stdout",
     "output_type": "stream",
     "text": [
      "Nitrogen       0\n",
      "Phosphorus     0\n",
      "Potassium      0\n",
      "Temperature    0\n",
      "pH             0\n",
      "Rainfall       0\n",
      "Crop           0\n",
      "dtype: int64\n",
      "<class 'pandas.core.frame.DataFrame'>\n",
      "Index: 1119 entries, 0 to 4213\n",
      "Data columns (total 7 columns):\n",
      " #   Column       Non-Null Count  Dtype  \n",
      "---  ------       --------------  -----  \n",
      " 0   Nitrogen     1119 non-null   int64  \n",
      " 1   Phosphorus   1119 non-null   int64  \n",
      " 2   Potassium    1119 non-null   int64  \n",
      " 3   Temperature  1119 non-null   float64\n",
      " 4   pH           1119 non-null   float64\n",
      " 5   Rainfall     1119 non-null   float64\n",
      " 6   Crop         1119 non-null   object \n",
      "dtypes: float64(3), int64(3), object(1)\n",
      "memory usage: 69.9+ KB\n"
     ]
    }
   ],
   "source": [
    "print(concatenated_df.isnull().sum())\n",
    "concatenated_df.info()"
   ]
  },
  {
   "cell_type": "markdown",
   "metadata": {},
   "source": [
    "splitting the data frame into the x terms and y terms"
   ]
  },
  {
   "cell_type": "code",
   "execution_count": 53,
   "metadata": {},
   "outputs": [],
   "source": [
    "x=concatenated_df.drop('Crop', axis= 1)\n",
    "y= concatenated_df['Crop']"
   ]
  },
  {
   "cell_type": "markdown",
   "metadata": {},
   "source": [
    "Splitting the two new dataframes into training data and testing data while ensuring the new sub datasets represent their parent dataframes by stratify."
   ]
  },
  {
   "cell_type": "code",
   "execution_count": 54,
   "metadata": {},
   "outputs": [],
   "source": [
    "from sklearn.model_selection import train_test_split\n",
    "x_train, x_test, y_train,y_test = train_test_split(x,y, stratify= y, random_state=1)"
   ]
  },
  {
   "cell_type": "markdown",
   "metadata": {},
   "source": [
    "Training the Logistic Regression model and checking its accuracy in percentage"
   ]
  },
  {
   "cell_type": "code",
   "execution_count": 55,
   "metadata": {},
   "outputs": [
    {
     "name": "stdout",
     "output_type": "stream",
     "text": [
      "The accuracy of logistic regression on testing data is 97.5 %\n"
     ]
    },
    {
     "name": "stderr",
     "output_type": "stream",
     "text": [
      "c:\\Users\\joana\\anaconda3\\envs\\project\\lib\\site-packages\\sklearn\\linear_model\\_logistic.py:460: ConvergenceWarning: lbfgs failed to converge (status=1):\n",
      "STOP: TOTAL NO. of ITERATIONS REACHED LIMIT.\n",
      "\n",
      "Increase the number of iterations (max_iter) or scale the data as shown in:\n",
      "    https://scikit-learn.org/stable/modules/preprocessing.html\n",
      "Please also refer to the documentation for alternative solver options:\n",
      "    https://scikit-learn.org/stable/modules/linear_model.html#logistic-regression\n",
      "  n_iter_i = _check_optimize_result(\n"
     ]
    }
   ],
   "source": [
    "from sklearn.linear_model import LogisticRegression\n",
    "model = LogisticRegression()\n",
    "model.fit(x_train, y_train)\n",
    "y_pred = model.predict(x_test)\n",
    "from sklearn.metrics import accuracy_score\n",
    "logistic_accuracy =accuracy_score(y_test,y_pred)\n",
    "\n",
    "print(\"The accuracy of logistic regression on testing data is \" + str(logistic_accuracy *100) +\" %\")"
   ]
  },
  {
   "cell_type": "markdown",
   "metadata": {},
   "source": [
    "testing accuracy of the logistic regression model"
   ]
  },
  {
   "cell_type": "code",
   "execution_count": 56,
   "metadata": {},
   "outputs": [
    {
     "name": "stdout",
     "output_type": "stream",
     "text": [
      "The accuracy of logistic regression on training data is 98.80810488676997 %\n"
     ]
    },
    {
     "name": "stderr",
     "output_type": "stream",
     "text": [
      "c:\\Users\\joana\\anaconda3\\envs\\project\\lib\\site-packages\\sklearn\\linear_model\\_logistic.py:460: ConvergenceWarning: lbfgs failed to converge (status=1):\n",
      "STOP: TOTAL NO. of ITERATIONS REACHED LIMIT.\n",
      "\n",
      "Increase the number of iterations (max_iter) or scale the data as shown in:\n",
      "    https://scikit-learn.org/stable/modules/preprocessing.html\n",
      "Please also refer to the documentation for alternative solver options:\n",
      "    https://scikit-learn.org/stable/modules/linear_model.html#logistic-regression\n",
      "  n_iter_i = _check_optimize_result(\n"
     ]
    }
   ],
   "source": [
    "model = LogisticRegression()\n",
    "model.fit(x_train, y_train)\n",
    "y_train_pred = model.predict(x_train)\n",
    "training_accuracy = accuracy_score(y_train, y_train_pred)\n",
    "\n",
    "print(\"The accuracy of logistic regression on training data is \" + str(training_accuracy * 100) + \" %\")\n"
   ]
  },
  {
   "cell_type": "markdown",
   "metadata": {},
   "source": [
    "We do the same for the decision tree model "
   ]
  },
  {
   "cell_type": "code",
   "execution_count": 57,
   "metadata": {},
   "outputs": [
    {
     "name": "stdout",
     "output_type": "stream",
     "text": [
      "Accuracy of decision tree in testing is 98.92857142857143%\n"
     ]
    }
   ],
   "source": [
    "from sklearn.tree import DecisionTreeClassifier\n",
    "model_2 = DecisionTreeClassifier(criterion='entropy',max_depth = 6, random_state = 2)\n",
    "model_2.fit(x_train, y_train)\n",
    "y_pred_test_2 = model_2.predict(x_test)\n",
    "decision_acc_test = accuracy_score(y_test, y_pred_test_2)\n",
    "print(\"Accuracy of decision tree in testing is \" + str(decision_acc_test *100) +\"%\")"
   ]
  },
  {
   "cell_type": "markdown",
   "metadata": {},
   "source": [
    "Now the decision tree's training accuracy"
   ]
  },
  {
   "cell_type": "code",
   "execution_count": 58,
   "metadata": {},
   "outputs": [
    {
     "name": "stdout",
     "output_type": "stream",
     "text": [
      "Accuracy of decision  tree in training is 99.28486293206198%\n"
     ]
    }
   ],
   "source": [
    "model_2.fit(x_train, y_train)\n",
    "y_pred_train_2 = model_2.predict(x_train)\n",
    "decision_acc = accuracy_score(y_train, y_pred_train_2)\n",
    "print(\"Accuracy of decision  tree in training is \" + str(decision_acc *100) +\"%\")"
   ]
  },
  {
   "cell_type": "markdown",
   "metadata": {},
   "source": [
    "Now we do the same with the naive_bayes model"
   ]
  },
  {
   "cell_type": "code",
   "execution_count": 59,
   "metadata": {},
   "outputs": [
    {
     "name": "stdout",
     "output_type": "stream",
     "text": [
      "Accuracy of naive_bayes in training is 96.7818831942789%\n"
     ]
    }
   ],
   "source": [
    "from sklearn.naive_bayes import GaussianNB\n",
    "model_3 = GaussianNB()\n",
    "model_3.fit(x_train, y_train)\n",
    "y_pred_train_3 = model_3.predict(x_train)\n",
    "naive_bayes_acc = accuracy_score(y_train, y_pred_train_3)\n",
    "print(\"Accuracy of naive_bayes in training is \" + str(naive_bayes_acc*100)+\"%\")"
   ]
  },
  {
   "cell_type": "code",
   "execution_count": 60,
   "metadata": {},
   "outputs": [
    {
     "name": "stdout",
     "output_type": "stream",
     "text": [
      "Accuracy of naive_bayes in testing is 95.71428571428572%\n"
     ]
    }
   ],
   "source": [
    "model_3.fit(x_train, y_train)\n",
    "y_pred_test_3 = model_3.predict(x_test)\n",
    "naive_bayes_acc = accuracy_score(y_test, y_pred_test_3)\n",
    "print(\"Accuracy of naive_bayes in testing is \" + str(naive_bayes_acc*100)+\"%\")"
   ]
  },
  {
   "cell_type": "markdown",
   "metadata": {},
   "source": [
    "Now to check the random forest model's accuracy in the same way"
   ]
  },
  {
   "cell_type": "code",
   "execution_count": 61,
   "metadata": {},
   "outputs": [
    {
     "name": "stdout",
     "output_type": "stream",
     "text": [
      "Accuracy of Random Forest in training is 100.0%\n"
     ]
    }
   ],
   "source": [
    "from sklearn.ensemble import RandomForestClassifier\n",
    "model_4 = RandomForestClassifier(n_estimators = 25, random_state=2)\n",
    "model_4.fit(x_train, y_train)\n",
    "y_pred_train_4 = model_4.predict(x_train)\n",
    "random_fore_acc = accuracy_score(y_train, y_pred_train_4)\n",
    "print(\"Accuracy of Random Forest in training is \" + str(random_fore_acc*100)+\"%\")\n"
   ]
  },
  {
   "cell_type": "code",
   "execution_count": 62,
   "metadata": {},
   "outputs": [
    {
     "name": "stdout",
     "output_type": "stream",
     "text": [
      "Accuracy of Random Forest in training is 100.0%\n"
     ]
    }
   ],
   "source": [
    "model_4.fit(x_train, y_train)\n",
    "y_pred_test_4 = model_4.predict(x_test)\n",
    "random_fore_acc = accuracy_score(y_test, y_pred_test_4)\n",
    "print(\"Accuracy of Random Forest in training is \" + str(random_fore_acc*100)+\"%\")\n"
   ]
  }
 ],
 "metadata": {
  "kernelspec": {
   "display_name": "base",
   "language": "python",
   "name": "python3"
  },
  "language_info": {
   "codemirror_mode": {
    "name": "ipython",
    "version": 3
   },
   "file_extension": ".py",
   "mimetype": "text/x-python",
   "name": "python",
   "nbconvert_exporter": "python",
   "pygments_lexer": "ipython3",
   "version": "3.10.13"
  }
 },
 "nbformat": 4,
 "nbformat_minor": 2
}
